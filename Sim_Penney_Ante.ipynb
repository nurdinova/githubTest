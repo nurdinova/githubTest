{
 "cells": [
  {
   "cell_type": "code",
   "execution_count": 1,
   "metadata": {
    "ExecuteTime": {
     "end_time": "2018-04-10T18:23:22.664278Z",
     "start_time": "2018-04-10T18:23:19.831670Z"
    }
   },
   "outputs": [],
   "source": [
    "from __future__ import print_function, division\n",
    "import numpy as np\n",
    "import numpy.random as rand\n",
    "import matplotlib.pyplot as plt"
   ]
  },
  {
   "cell_type": "code",
   "execution_count": 2,
   "metadata": {
    "ExecuteTime": {
     "end_time": "2018-04-10T18:23:22.681503Z",
     "start_time": "2018-04-10T18:23:22.674428Z"
    }
   },
   "outputs": [],
   "source": [
    "rand.seed(2020)  # initialize the random generator with an arbitrary number"
   ]
  },
  {
   "cell_type": "code",
   "execution_count": 36,
   "metadata": {
    "ExecuteTime": {
     "end_time": "2018-04-10T18:23:22.700950Z",
     "start_time": "2018-04-10T18:23:22.685732Z"
    }
   },
   "outputs": [],
   "source": [
    "c = []\n",
    "d = []\n",
    "# player one chooses the random sequence\n",
    "for i in range(3):\n",
    "    c.append(rand.randint(2))\n",
    "\n",
    "# sequence of the player two\n",
    "d.append((c[1]+1)%2)\n",
    "d.append(c[0])\n",
    "d.append(c[1])\n",
    "\n",
    "# number of wins of every player\n",
    "wins_c = 0\n",
    "wins_d = 0\n",
    "\n",
    "for i in range(1000):\n",
    "    results = [] # results of flips\n",
    "    for j in range(3):\n",
    "        results.append(rand.randint(2))\n",
    "    while (True):\n",
    "        results.append(rand.randint(2))\n",
    "        results.remove(results[0])\n",
    "        if np.all(results == c):\n",
    "            wins_c += 1\n",
    "            break\n",
    "        if np.all(results == d):\n",
    "            wins_d += 1\n",
    "            break"
   ]
  },
  {
   "cell_type": "code",
   "execution_count": 41,
   "metadata": {},
   "outputs": [
    {
     "name": "stdout",
     "output_type": "stream",
     "text": [
      "For 1000 tosses:\n",
      " Number of wins of the first player = \t34\n",
      " Number of wins of the second player = \t66\n"
     ]
    }
   ],
   "source": [
    "print('For 1000 tosses:\\n',\n",
    "      'Number of wins of the first player = \\t%d\\n' % (wins_c),\n",
    "      'Number of wins of the second player = \\t%d' % (wins_d))"
   ]
  },
  {
   "cell_type": "code",
   "execution_count": 42,
   "metadata": {
    "scrolled": true
   },
   "outputs": [
    {
     "name": "stdout",
     "output_type": "stream",
     "text": [
      "1\n",
      "5\n",
      "2\n",
      "10\n",
      "3\n",
      "2\n",
      "7\n",
      "5\n",
      "14\n",
      "1\n",
      "5\n",
      "7\n",
      "3\n",
      "2\n",
      "5\n",
      "8\n",
      "10\n",
      "3\n",
      "4\n",
      "2\n",
      "6\n",
      "2\n",
      "2\n",
      "1\n",
      "1\n",
      "5\n",
      "2\n",
      "1\n",
      "1\n",
      "1\n",
      "3\n",
      "7\n",
      "1\n",
      "1\n",
      "5\n",
      "5\n",
      "1\n",
      "1\n",
      "4\n",
      "4\n",
      "2\n",
      "3\n",
      "7\n",
      "6\n",
      "9\n",
      "6\n",
      "1\n",
      "6\n",
      "1\n",
      "2\n",
      "1\n",
      "1\n",
      "1\n",
      "2\n",
      "3\n",
      "4\n",
      "3\n",
      "3\n",
      "2\n",
      "2\n",
      "8\n",
      "1\n",
      "2\n",
      "2\n",
      "2\n",
      "6\n",
      "3\n",
      "7\n",
      "1\n",
      "1\n",
      "1\n",
      "1\n",
      "1\n",
      "2\n",
      "4\n",
      "4\n",
      "2\n",
      "1\n",
      "6\n",
      "6\n",
      "4\n",
      "4\n",
      "2\n",
      "1\n",
      "4\n",
      "6\n",
      "1\n",
      "1\n",
      "5\n",
      "7\n",
      "3\n",
      "1\n",
      "12\n",
      "2\n",
      "3\n",
      "1\n",
      "4\n",
      "3\n",
      "2\n",
      "1\n"
     ]
    }
   ],
   "source": [
    "c = []\n",
    "d = []\n",
    "for i in range(3):\n",
    "    c.append(rand.randint(2))\n",
    "    \n",
    "d.append((c[1]+1)%2)\n",
    "d.append(c[0])\n",
    "d.append(c[1])\n",
    "\n",
    "wins_c = 0\n",
    "wins_d = 0\n",
    "\n",
    "for i in range(100):\n",
    "    k = 0\n",
    "    results = []\n",
    "    for j in range(3):\n",
    "        results.append(rand.randint(2))\n",
    "    while (True):\n",
    "        k += 1\n",
    "        results.append(rand.randint(2))\n",
    "        results.remove(results[0])\n",
    "        if np.all(results == c):\n",
    "            wins_c += 1\n",
    "            print(k)\n",
    "            break\n",
    "        if np.all(results == d):\n",
    "            wins_d += 1\n",
    "            print(k)\n",
    "            break"
   ]
  },
  {
   "cell_type": "code",
   "execution_count": 43,
   "metadata": {},
   "outputs": [
    {
     "name": "stdout",
     "output_type": "stream",
     "text": [
      "For 100 tosses:\n",
      " Number of wins of the first player = \t29\n",
      " Number of wins of the second player = \t71\n"
     ]
    }
   ],
   "source": [
    "print('For 100 tosses:\\n',\n",
    "      'Number of wins of the first player = \\t%d\\n' % (wins_c),\n",
    "      'Number of wins of the second player = \\t%d' % (wins_d))"
   ]
  }
 ],
 "metadata": {
  "hide_input": false,
  "kernelspec": {
   "display_name": "Python 3",
   "language": "python",
   "name": "python3"
  },
  "language_info": {
   "codemirror_mode": {
    "name": "ipython",
    "version": 3
   },
   "file_extension": ".py",
   "mimetype": "text/x-python",
   "name": "python",
   "nbconvert_exporter": "python",
   "pygments_lexer": "ipython3",
   "version": "3.7.6"
  }
 },
 "nbformat": 4,
 "nbformat_minor": 2
}
